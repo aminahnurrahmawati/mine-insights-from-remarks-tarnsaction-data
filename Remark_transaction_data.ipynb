{
 "cells": [
  {
   "cell_type": "code",
   "execution_count": 1,
   "metadata": {
    "id": "uR4dyMm3apnr"
   },
   "outputs": [],
   "source": [
    "import numpy as np\n",
    "import pandas as pd\n",
    "import matplotlib.pyplot as plt"
   ]
  },
  {
   "cell_type": "code",
   "execution_count": 2,
   "metadata": {
    "id": "4m4J5ktka2xf"
   },
   "outputs": [],
   "source": [
    "remark_data=pd.read_csv('remark_data.csv')"
   ]
  },
  {
   "cell_type": "code",
   "execution_count": 3,
   "metadata": {
    "colab": {
     "base_uri": "https://localhost:8080/",
     "height": 206
    },
    "id": "5No39KKzbpCF",
    "outputId": "f420595b-1797-47f1-eecd-79a699a84f1d"
   },
   "outputs": [
    {
     "data": {
      "text/html": [
       "<div>\n",
       "<style scoped>\n",
       "    .dataframe tbody tr th:only-of-type {\n",
       "        vertical-align: middle;\n",
       "    }\n",
       "\n",
       "    .dataframe tbody tr th {\n",
       "        vertical-align: top;\n",
       "    }\n",
       "\n",
       "    .dataframe thead th {\n",
       "        text-align: right;\n",
       "    }\n",
       "</style>\n",
       "<table border=\"1\" class=\"dataframe\">\n",
       "  <thead>\n",
       "    <tr style=\"text-align: right;\">\n",
       "      <th></th>\n",
       "      <th>remark</th>\n",
       "    </tr>\n",
       "  </thead>\n",
       "  <tbody>\n",
       "    <tr>\n",
       "      <th>0</th>\n",
       "      <td>byr arisan januari</td>\n",
       "    </tr>\n",
       "    <tr>\n",
       "      <th>1</th>\n",
       "      <td>arisan barang</td>\n",
       "    </tr>\n",
       "    <tr>\n",
       "      <th>2</th>\n",
       "      <td>etoll cfhro</td>\n",
       "    </tr>\n",
       "    <tr>\n",
       "      <th>3</th>\n",
       "      <td>belanja muse 12mar</td>\n",
       "    </tr>\n",
       "    <tr>\n",
       "      <th>4</th>\n",
       "      <td>ruko 2</td>\n",
       "    </tr>\n",
       "  </tbody>\n",
       "</table>\n",
       "</div>"
      ],
      "text/plain": [
       "                 remark\n",
       "0   byr arisan januari \n",
       "1        arisan barang \n",
       "2          etoll cfhro \n",
       "3   belanja muse 12mar \n",
       "4               ruko 2 "
      ]
     },
     "execution_count": 3,
     "metadata": {},
     "output_type": "execute_result"
    }
   ],
   "source": [
    "remark_data.head()"
   ]
  },
  {
   "cell_type": "markdown",
   "metadata": {},
   "source": [
    "For this dataset actually we can gain the insight for instance seeing what kind of \n",
    "transaction usually done by customer by seeing the distribution of most common word \n",
    "occurred from the data.\n",
    "Here‟s I plot the top 30 common words usually occurred which can describe the \n",
    "transaction of customers."
   ]
  },
  {
   "cell_type": "code",
   "execution_count": 4,
   "metadata": {
    "colab": {
     "base_uri": "https://localhost:8080/"
    },
    "id": "9Bp36Q4ULjYj",
    "outputId": "9cfa60ba-845d-4fcb-e215-9f78bae0dded"
   },
   "outputs": [
    {
     "data": {
      "text/plain": [
       "[('arisan', 736),\n",
       " ('bayar', 520),\n",
       " ('gaji', 464),\n",
       " ('uang', 343),\n",
       " ('thr', 312),\n",
       " ('fee', 262),\n",
       " ('cicilan', 238),\n",
       " ('mei', 230),\n",
       " ('kos', 215),\n",
       " ('jajan', 213),\n",
       " ('2022', 195),\n",
       " ('belanja', 194),\n",
       " ('dan', 194),\n",
       " ('ongkir', 182),\n",
       " ('infaq', 168),\n",
       " ('nabung', 165),\n",
       " ('rumah', 163),\n",
       " ('utang', 158),\n",
       " ('22', 149),\n",
       " ('maret', 146),\n",
       " ('cod', 145),\n",
       " ('juni', 142),\n",
       " ('tabungan', 142),\n",
       " ('2', 141),\n",
       " ('april', 138),\n",
       " ('cell', 136),\n",
       " ('kue', 134),\n",
       " ('paket', 131),\n",
       " ('laundry', 130),\n",
       " ('angsuran', 129)]"
      ]
     },
     "execution_count": 4,
     "metadata": {},
     "output_type": "execute_result"
    }
   ],
   "source": [
    "from collections import Counter\n",
    "Counter(\"\".join(remark_data.remark).split()).most_common(30)"
   ]
  },
  {
   "cell_type": "code",
   "execution_count": 5,
   "metadata": {
    "colab": {
     "base_uri": "https://localhost:8080/",
     "height": 677
    },
    "id": "fX80fvKDQZSa",
    "outputId": "6cd985aa-6464-463e-9106-0b6942a6f68e"
   },
   "outputs": [
    {
     "data": {
      "text/html": [
       "<div>\n",
       "<style scoped>\n",
       "    .dataframe tbody tr th:only-of-type {\n",
       "        vertical-align: middle;\n",
       "    }\n",
       "\n",
       "    .dataframe tbody tr th {\n",
       "        vertical-align: top;\n",
       "    }\n",
       "\n",
       "    .dataframe thead th {\n",
       "        text-align: right;\n",
       "    }\n",
       "</style>\n",
       "<table border=\"1\" class=\"dataframe\">\n",
       "  <thead>\n",
       "    <tr style=\"text-align: right;\">\n",
       "      <th></th>\n",
       "      <th>0</th>\n",
       "      <th>1</th>\n",
       "    </tr>\n",
       "  </thead>\n",
       "  <tbody>\n",
       "    <tr>\n",
       "      <th>0</th>\n",
       "      <td>arisan</td>\n",
       "      <td>736</td>\n",
       "    </tr>\n",
       "    <tr>\n",
       "      <th>1</th>\n",
       "      <td>bayar</td>\n",
       "      <td>520</td>\n",
       "    </tr>\n",
       "    <tr>\n",
       "      <th>2</th>\n",
       "      <td>gaji</td>\n",
       "      <td>464</td>\n",
       "    </tr>\n",
       "    <tr>\n",
       "      <th>3</th>\n",
       "      <td>uang</td>\n",
       "      <td>343</td>\n",
       "    </tr>\n",
       "    <tr>\n",
       "      <th>4</th>\n",
       "      <td>thr</td>\n",
       "      <td>312</td>\n",
       "    </tr>\n",
       "    <tr>\n",
       "      <th>5</th>\n",
       "      <td>fee</td>\n",
       "      <td>262</td>\n",
       "    </tr>\n",
       "    <tr>\n",
       "      <th>6</th>\n",
       "      <td>cicilan</td>\n",
       "      <td>238</td>\n",
       "    </tr>\n",
       "    <tr>\n",
       "      <th>7</th>\n",
       "      <td>mei</td>\n",
       "      <td>230</td>\n",
       "    </tr>\n",
       "    <tr>\n",
       "      <th>8</th>\n",
       "      <td>kos</td>\n",
       "      <td>215</td>\n",
       "    </tr>\n",
       "    <tr>\n",
       "      <th>9</th>\n",
       "      <td>jajan</td>\n",
       "      <td>213</td>\n",
       "    </tr>\n",
       "    <tr>\n",
       "      <th>10</th>\n",
       "      <td>2022</td>\n",
       "      <td>195</td>\n",
       "    </tr>\n",
       "    <tr>\n",
       "      <th>11</th>\n",
       "      <td>belanja</td>\n",
       "      <td>194</td>\n",
       "    </tr>\n",
       "    <tr>\n",
       "      <th>12</th>\n",
       "      <td>dan</td>\n",
       "      <td>194</td>\n",
       "    </tr>\n",
       "    <tr>\n",
       "      <th>13</th>\n",
       "      <td>ongkir</td>\n",
       "      <td>182</td>\n",
       "    </tr>\n",
       "    <tr>\n",
       "      <th>14</th>\n",
       "      <td>infaq</td>\n",
       "      <td>168</td>\n",
       "    </tr>\n",
       "    <tr>\n",
       "      <th>15</th>\n",
       "      <td>nabung</td>\n",
       "      <td>165</td>\n",
       "    </tr>\n",
       "    <tr>\n",
       "      <th>16</th>\n",
       "      <td>rumah</td>\n",
       "      <td>163</td>\n",
       "    </tr>\n",
       "    <tr>\n",
       "      <th>17</th>\n",
       "      <td>utang</td>\n",
       "      <td>158</td>\n",
       "    </tr>\n",
       "    <tr>\n",
       "      <th>18</th>\n",
       "      <td>22</td>\n",
       "      <td>149</td>\n",
       "    </tr>\n",
       "    <tr>\n",
       "      <th>19</th>\n",
       "      <td>maret</td>\n",
       "      <td>146</td>\n",
       "    </tr>\n",
       "  </tbody>\n",
       "</table>\n",
       "</div>"
      ],
      "text/plain": [
       "          0    1\n",
       "0    arisan  736\n",
       "1     bayar  520\n",
       "2      gaji  464\n",
       "3      uang  343\n",
       "4       thr  312\n",
       "5       fee  262\n",
       "6   cicilan  238\n",
       "7       mei  230\n",
       "8       kos  215\n",
       "9     jajan  213\n",
       "10     2022  195\n",
       "11  belanja  194\n",
       "12      dan  194\n",
       "13   ongkir  182\n",
       "14    infaq  168\n",
       "15   nabung  165\n",
       "16    rumah  163\n",
       "17    utang  158\n",
       "18       22  149\n",
       "19    maret  146"
      ]
     },
     "execution_count": 5,
     "metadata": {},
     "output_type": "execute_result"
    }
   ],
   "source": [
    "frekuensi_20=pd.DataFrame(Counter(\"\".join(remark_data.remark).split()).most_common(20))\n",
    "frekuensi_20 #20 most common transactions"
   ]
  },
  {
   "cell_type": "code",
   "execution_count": 6,
   "metadata": {
    "colab": {
     "base_uri": "https://localhost:8080/",
     "height": 990
    },
    "id": "QL09kjRbNKyQ",
    "outputId": "093f418e-08b7-4d30-f63e-58601cbbce5d"
   },
   "outputs": [
    {
     "data": {
      "text/html": [
       "<div>\n",
       "<style scoped>\n",
       "    .dataframe tbody tr th:only-of-type {\n",
       "        vertical-align: middle;\n",
       "    }\n",
       "\n",
       "    .dataframe tbody tr th {\n",
       "        vertical-align: top;\n",
       "    }\n",
       "\n",
       "    .dataframe thead th {\n",
       "        text-align: right;\n",
       "    }\n",
       "</style>\n",
       "<table border=\"1\" class=\"dataframe\">\n",
       "  <thead>\n",
       "    <tr style=\"text-align: right;\">\n",
       "      <th></th>\n",
       "      <th>0</th>\n",
       "      <th>1</th>\n",
       "    </tr>\n",
       "  </thead>\n",
       "  <tbody>\n",
       "    <tr>\n",
       "      <th>0</th>\n",
       "      <td>arisan</td>\n",
       "      <td>736</td>\n",
       "    </tr>\n",
       "    <tr>\n",
       "      <th>1</th>\n",
       "      <td>bayar</td>\n",
       "      <td>520</td>\n",
       "    </tr>\n",
       "    <tr>\n",
       "      <th>2</th>\n",
       "      <td>gaji</td>\n",
       "      <td>464</td>\n",
       "    </tr>\n",
       "    <tr>\n",
       "      <th>3</th>\n",
       "      <td>uang</td>\n",
       "      <td>343</td>\n",
       "    </tr>\n",
       "    <tr>\n",
       "      <th>4</th>\n",
       "      <td>thr</td>\n",
       "      <td>312</td>\n",
       "    </tr>\n",
       "    <tr>\n",
       "      <th>5</th>\n",
       "      <td>fee</td>\n",
       "      <td>262</td>\n",
       "    </tr>\n",
       "    <tr>\n",
       "      <th>6</th>\n",
       "      <td>cicilan</td>\n",
       "      <td>238</td>\n",
       "    </tr>\n",
       "    <tr>\n",
       "      <th>7</th>\n",
       "      <td>mei</td>\n",
       "      <td>230</td>\n",
       "    </tr>\n",
       "    <tr>\n",
       "      <th>8</th>\n",
       "      <td>kos</td>\n",
       "      <td>215</td>\n",
       "    </tr>\n",
       "    <tr>\n",
       "      <th>9</th>\n",
       "      <td>jajan</td>\n",
       "      <td>213</td>\n",
       "    </tr>\n",
       "    <tr>\n",
       "      <th>10</th>\n",
       "      <td>2022</td>\n",
       "      <td>195</td>\n",
       "    </tr>\n",
       "    <tr>\n",
       "      <th>11</th>\n",
       "      <td>belanja</td>\n",
       "      <td>194</td>\n",
       "    </tr>\n",
       "    <tr>\n",
       "      <th>12</th>\n",
       "      <td>dan</td>\n",
       "      <td>194</td>\n",
       "    </tr>\n",
       "    <tr>\n",
       "      <th>13</th>\n",
       "      <td>ongkir</td>\n",
       "      <td>182</td>\n",
       "    </tr>\n",
       "    <tr>\n",
       "      <th>14</th>\n",
       "      <td>infaq</td>\n",
       "      <td>168</td>\n",
       "    </tr>\n",
       "    <tr>\n",
       "      <th>15</th>\n",
       "      <td>nabung</td>\n",
       "      <td>165</td>\n",
       "    </tr>\n",
       "    <tr>\n",
       "      <th>16</th>\n",
       "      <td>rumah</td>\n",
       "      <td>163</td>\n",
       "    </tr>\n",
       "    <tr>\n",
       "      <th>17</th>\n",
       "      <td>utang</td>\n",
       "      <td>158</td>\n",
       "    </tr>\n",
       "    <tr>\n",
       "      <th>18</th>\n",
       "      <td>22</td>\n",
       "      <td>149</td>\n",
       "    </tr>\n",
       "    <tr>\n",
       "      <th>19</th>\n",
       "      <td>maret</td>\n",
       "      <td>146</td>\n",
       "    </tr>\n",
       "    <tr>\n",
       "      <th>20</th>\n",
       "      <td>cod</td>\n",
       "      <td>145</td>\n",
       "    </tr>\n",
       "    <tr>\n",
       "      <th>21</th>\n",
       "      <td>juni</td>\n",
       "      <td>142</td>\n",
       "    </tr>\n",
       "    <tr>\n",
       "      <th>22</th>\n",
       "      <td>tabungan</td>\n",
       "      <td>142</td>\n",
       "    </tr>\n",
       "    <tr>\n",
       "      <th>23</th>\n",
       "      <td>2</td>\n",
       "      <td>141</td>\n",
       "    </tr>\n",
       "    <tr>\n",
       "      <th>24</th>\n",
       "      <td>april</td>\n",
       "      <td>138</td>\n",
       "    </tr>\n",
       "    <tr>\n",
       "      <th>25</th>\n",
       "      <td>cell</td>\n",
       "      <td>136</td>\n",
       "    </tr>\n",
       "    <tr>\n",
       "      <th>26</th>\n",
       "      <td>kue</td>\n",
       "      <td>134</td>\n",
       "    </tr>\n",
       "    <tr>\n",
       "      <th>27</th>\n",
       "      <td>paket</td>\n",
       "      <td>131</td>\n",
       "    </tr>\n",
       "    <tr>\n",
       "      <th>28</th>\n",
       "      <td>laundry</td>\n",
       "      <td>130</td>\n",
       "    </tr>\n",
       "    <tr>\n",
       "      <th>29</th>\n",
       "      <td>angsuran</td>\n",
       "      <td>129</td>\n",
       "    </tr>\n",
       "    <tr>\n",
       "      <th>30</th>\n",
       "      <td>ayam</td>\n",
       "      <td>128</td>\n",
       "    </tr>\n",
       "    <tr>\n",
       "      <th>31</th>\n",
       "      <td>byr</td>\n",
       "      <td>127</td>\n",
       "    </tr>\n",
       "    <tr>\n",
       "      <th>32</th>\n",
       "      <td>mobil</td>\n",
       "      <td>127</td>\n",
       "    </tr>\n",
       "    <tr>\n",
       "      <th>33</th>\n",
       "      <td>order</td>\n",
       "      <td>123</td>\n",
       "    </tr>\n",
       "    <tr>\n",
       "      <th>34</th>\n",
       "      <td>n</td>\n",
       "      <td>121</td>\n",
       "    </tr>\n",
       "    <tr>\n",
       "      <th>35</th>\n",
       "      <td>feb</td>\n",
       "      <td>117</td>\n",
       "    </tr>\n",
       "    <tr>\n",
       "      <th>36</th>\n",
       "      <td>sedekah</td>\n",
       "      <td>115</td>\n",
       "    </tr>\n",
       "    <tr>\n",
       "      <th>37</th>\n",
       "      <td>donasi</td>\n",
       "      <td>115</td>\n",
       "    </tr>\n",
       "    <tr>\n",
       "      <th>38</th>\n",
       "      <td>wifi</td>\n",
       "      <td>113</td>\n",
       "    </tr>\n",
       "    <tr>\n",
       "      <th>39</th>\n",
       "      <td>1</td>\n",
       "      <td>111</td>\n",
       "    </tr>\n",
       "    <tr>\n",
       "      <th>40</th>\n",
       "      <td>kontrakan</td>\n",
       "      <td>108</td>\n",
       "    </tr>\n",
       "    <tr>\n",
       "      <th>41</th>\n",
       "      <td>hutang</td>\n",
       "      <td>104</td>\n",
       "    </tr>\n",
       "    <tr>\n",
       "      <th>42</th>\n",
       "      <td>kost</td>\n",
       "      <td>100</td>\n",
       "    </tr>\n",
       "    <tr>\n",
       "      <th>43</th>\n",
       "      <td>pulsa</td>\n",
       "      <td>97</td>\n",
       "    </tr>\n",
       "    <tr>\n",
       "      <th>44</th>\n",
       "      <td>honor</td>\n",
       "      <td>95</td>\n",
       "    </tr>\n",
       "    <tr>\n",
       "      <th>45</th>\n",
       "      <td>zakat</td>\n",
       "      <td>93</td>\n",
       "    </tr>\n",
       "    <tr>\n",
       "      <th>46</th>\n",
       "      <td>beras</td>\n",
       "      <td>93</td>\n",
       "    </tr>\n",
       "    <tr>\n",
       "      <th>47</th>\n",
       "      <td>3</td>\n",
       "      <td>92</td>\n",
       "    </tr>\n",
       "    <tr>\n",
       "      <th>48</th>\n",
       "      <td>jumat</td>\n",
       "      <td>92</td>\n",
       "    </tr>\n",
       "    <tr>\n",
       "      <th>49</th>\n",
       "      <td>jan</td>\n",
       "      <td>92</td>\n",
       "    </tr>\n",
       "  </tbody>\n",
       "</table>\n",
       "</div>"
      ],
      "text/plain": [
       "            0    1\n",
       "0      arisan  736\n",
       "1       bayar  520\n",
       "2        gaji  464\n",
       "3        uang  343\n",
       "4         thr  312\n",
       "5         fee  262\n",
       "6     cicilan  238\n",
       "7         mei  230\n",
       "8         kos  215\n",
       "9       jajan  213\n",
       "10       2022  195\n",
       "11    belanja  194\n",
       "12        dan  194\n",
       "13     ongkir  182\n",
       "14      infaq  168\n",
       "15     nabung  165\n",
       "16      rumah  163\n",
       "17      utang  158\n",
       "18         22  149\n",
       "19      maret  146\n",
       "20        cod  145\n",
       "21       juni  142\n",
       "22   tabungan  142\n",
       "23          2  141\n",
       "24      april  138\n",
       "25       cell  136\n",
       "26        kue  134\n",
       "27      paket  131\n",
       "28    laundry  130\n",
       "29   angsuran  129\n",
       "30       ayam  128\n",
       "31        byr  127\n",
       "32      mobil  127\n",
       "33      order  123\n",
       "34          n  121\n",
       "35        feb  117\n",
       "36    sedekah  115\n",
       "37     donasi  115\n",
       "38       wifi  113\n",
       "39          1  111\n",
       "40  kontrakan  108\n",
       "41     hutang  104\n",
       "42       kost  100\n",
       "43      pulsa   97\n",
       "44      honor   95\n",
       "45      zakat   93\n",
       "46      beras   93\n",
       "47          3   92\n",
       "48      jumat   92\n",
       "49        jan   92"
      ]
     },
     "execution_count": 6,
     "metadata": {},
     "output_type": "execute_result"
    }
   ],
   "source": [
    "frekuensi=pd.DataFrame(Counter(\"\".join(remark_data.remark).split()).most_common(50))\n",
    "frekuensi #50 most common transactions"
   ]
  },
  {
   "cell_type": "code",
   "execution_count": 7,
   "metadata": {},
   "outputs": [],
   "source": [
    "frekuensi=pd.DataFrame(Counter(\"\".join(remark_data.remark).split()).most_common())\n",
    "frekuensi.to_csv('frekuensi.csv', index=False) #we save the amounts of 50 most common transactions to csv file"
   ]
  },
  {
   "cell_type": "code",
   "execution_count": null,
   "metadata": {},
   "outputs": [],
   "source": [
    "frekuensi.tail(30)"
   ]
  },
  {
   "cell_type": "code",
   "execution_count": 24,
   "metadata": {
    "colab": {
     "base_uri": "https://localhost:8080/",
     "height": 1000
    },
    "id": "wi2BrSWwQrCd",
    "outputId": "e700357a-97d2-4d86-d50c-8dd6dea78c23"
   },
   "outputs": [
    {
     "data": {
      "text/plain": [
       "Text(0.5, 0, 'token occurence')"
      ]
     },
     "execution_count": 24,
     "metadata": {},
     "output_type": "execute_result"
    },
    {
     "data": {
      "image/png": "[encoded data removed]",
      "text/plain": [
       "<Figure size 2160x2160 with 1 Axes>"
      ]
     },
     "metadata": {
      "needs_background": "light"
     },
     "output_type": "display_data"
    }
   ],
   "source": [
    "#let's plot the 20 top token (most common transactions) distribution\n",
    "\n",
    "fig= plt.figure(figsize=(30,30))\n",
    "ax= fig.add_axes([0,0,1,1])\n",
    "hztal= frekuensi_20[0]\n",
    "vrtkal= frekuensi_20[1]\n",
    "ax.barh(hztal,vrtkal)\n",
    "plt.title(\" 20 top words token distribution\", fontsize=24)\n",
    "plt.ylabel(\"token\", fontsize=20)\n",
    "plt.yticks(fontsize=24)\n",
    "plt.xticks(fontsize=24)\n",
    "plt.xlabel(\"token occurence\", fontsize=20)"
   ]
  },
  {
   "cell_type": "markdown",
   "metadata": {},
   "source": [
    "From the plot above, we can assume that paying for “arisan” is the most common \n",
    "transaction that usually done by costumers. I only pick the very spesific transaction to \n",
    "make classification easier. So, from top 20 arisan, gaji, thr, fee, cicilan , kos, and jajan\n",
    "are the most spesific and common transaction purpose from custumer who did transaction \n",
    "using the app. So, for broader specification I add 10 more top category transaction, for \n",
    "this time I display it on table. As we can see on Table above."
   ]
  },
  {
   "cell_type": "markdown",
   "metadata": {},
   "source": [
    "Well, actually business insights that we obtain is the purpose of transaction that have been done \n",
    "by customers. So, from the insights we obtained, we can maximize the service for loyal \n",
    "customers who periodically do the transaction based on their transaction remarks. For instance \n",
    "giving some rewards or free application fee or stuffs to keep our customers being loyal and \n",
    "satisfied. In my opinion we can give some rewards like points for customers who always use the \n",
    "application to pay for arisan, gaji, thr, fee, cicilan , kos, and jajan for instances. And we can \n",
    "do more advertisement to people who do the least transaction based on their remark transaction \n",
    "history. Here‟s in Table 2 are shown the 30 least common transaction remarks by the costumers. \n",
    "As we can see that make the not common in transaction remarks, because of the word they use \n",
    "either an abbriviation, or name, or terminology. But this is can be an insight too, we have to \n",
    "carefully define the kind of transaction if we look at the remark. This is not only to maximize the \n",
    "effectiveness of transaction classification but also to prevent from the possibility of crime based \n",
    "on suspicious remarks. "
   ]
  },
  {
   "cell_type": "markdown",
   "metadata": {},
   "source": [
    "# Prediction (NLP)"
   ]
  },
  {
   "cell_type": "markdown",
   "metadata": {},
   "source": [
    "Moreover, not only identifying the type of transaction that have been done by customers, but \n",
    "actually we can also make a prediction or classification based on remarks of transaction that have \n",
    "been done by customers. This aims to predict what kind of transaction that will be done by a \n",
    "costumer based on their transaction remarks history. So, I apply the Naïve Bayes classification to \n",
    "predict the transaction based on the remarks. Still using the same remarks.csv dataset, the \n",
    "algorithm classified the keywords of the remark transaction, and I split the dataset to be 80% of \n",
    "training set and 20% of testing set. To be noted, this is still kinnd of data modelling, so we need \n",
    "more data to make the prediction get better accuracy.\n",
    "From the prediction, we obtain : (I only display the top 25 data from the dataset)"
   ]
  },
  {
   "cell_type": "code",
   "execution_count": 30,
   "metadata": {
    "colab": {
     "base_uri": "https://localhost:8080/"
    },
    "id": "2PIv_T3KHOQl",
    "outputId": "3512ba1d-874d-4fb0-83c9-31c6984224f3"
   },
   "outputs": [
    {
     "name": "stderr",
     "output_type": "stream",
     "text": [
      "[nltk_data] Downloading package stopwords to /root/nltk_data...\n",
      "[nltk_data]   Package stopwords is already up-to-date!\n"
     ]
    }
   ],
   "source": [
    "import re\n",
    "import nltk\n",
    "nltk.download('stopwords')\n",
    "from nltk.corpus import stopwords\n",
    "from nltk.stem.porter import PorterStemmer\n",
    "corpus = []\n",
    "for i in range(0, 9746):\n",
    "  remark = re.sub('[^a-zA-Z]', ' ', remark_data['remark'][i])\n",
    "  remark = remark.lower()\n",
    "  remark = remark.split()\n",
    "  ps = PorterStemmer()\n",
    "  all_stopwords = stopwords.words('english')\n",
    "  all_stopwords.remove('not')\n",
    "  remark = [ps.stem(word) for word in remark if not word in set(all_stopwords)]\n",
    "  remark= ' '.join(remark)\n",
    "  corpus.append(remark)"
   ]
  },
  {
   "cell_type": "code",
   "execution_count": 31,
   "metadata": {
    "id": "guAYKUD57RV7"
   },
   "outputs": [],
   "source": [
    "from sklearn.feature_extraction.text import CountVectorizer\n",
    "cv = CountVectorizer(max_features = 9746)\n",
    "X = cv.fit_transform(corpus).toarray()\n",
    "y = remark_data.iloc[:, -1].values"
   ]
  },
  {
   "cell_type": "code",
   "execution_count": 32,
   "metadata": {
    "id": "rlrgpdck8Irt"
   },
   "outputs": [],
   "source": [
    "from sklearn.model_selection import train_test_split\n",
    "X_train, X_test, y_train, y_test = train_test_split(X, y, test_size = 0.20, random_state = 0)"
   ]
  },
  {
   "cell_type": "code",
   "execution_count": 33,
   "metadata": {
    "colab": {
     "base_uri": "https://localhost:8080/"
    },
    "id": "tVX32_te8cvZ",
    "outputId": "b39c9bc8-33a5-45a4-d917-9337bd11af77"
   },
   "outputs": [
    {
     "data": {
      "text/plain": [
       "GaussianNB()"
      ]
     },
     "execution_count": 33,
     "metadata": {},
     "output_type": "execute_result"
    }
   ],
   "source": [
    "from sklearn.naive_bayes import GaussianNB\n",
    "classifier = GaussianNB()\n",
    "classifier.fit(X_train, y_train)"
   ]
  },
  {
   "cell_type": "code",
   "execution_count": 34,
   "metadata": {
    "colab": {
     "base_uri": "https://localhost:8080/"
    },
    "id": "ot6EhHKW8q87",
    "outputId": "311cf790-02c3-4d98-fdae-bff9305ff2ae"
   },
   "outputs": [
    {
     "name": "stdout",
     "output_type": "stream",
     "text": [
      "[[' reward ' ' reward modul smt 2 ']\n",
      " [' ayam ' ' ayam ']\n",
      " [' kos juni ' ' kos cia juni 2022 ']\n",
      " ...\n",
      " [' paket ' ' paket isoman ']\n",
      " [' reimburse ' ' reimburse ']\n",
      " [' pelunasan 3 order ' ' pelunasan order ']]\n"
     ]
    }
   ],
   "source": [
    "y_pred = classifier.predict(X_test)\n",
    "print(np.concatenate((y_pred.reshape(len(y_pred),1), y_test.reshape(len(y_test),1)),1))"
   ]
  },
  {
   "cell_type": "markdown",
   "metadata": {},
   "source": [
    "As we can see from the table, the algorithm predict the keywords, so the result of the prediction \n",
    "is the keywords of the actual remarks. The prediction is useful in developing application to make \n",
    "customers easier in using the app, for instance creating the autotext based on remarks history and \n",
    "so on. But we obtain the low accuracy score for this whole dataset, namely just 0.25. This is most \n",
    "likely to happen because we need more data to train our algorithm to classify and we have to \n",
    "deal with some unidentified words too. But based on sample remarks prediction from the result of prediction. in \n",
    "my opinion, we have obtained and we can obtained more promising result. "
   ]
  },
  {
   "cell_type": "code",
   "execution_count": null,
   "metadata": {},
   "outputs": [],
   "source": []
  }
 ],
 "metadata": {
  "colab": {
   "collapsed_sections": [],
   "name": "Remark_data_flip.ipynb",
   "provenance": []
  },
  "kernelspec": {
   "display_name": "Python 3 (ipykernel)",
   "language": "python",
   "name": "python3"
  },
  "language_info": {
   "codemirror_mode": {
    "name": "ipython",
    "version": 3
   },
   "file_extension": ".py",
   "mimetype": "text/x-python",
   "name": "python",
   "nbconvert_exporter": "python",
   "pygments_lexer": "ipython3",
   "version": "3.9.12"
  }
 },
 "nbformat": 4,
 "nbformat_minor": 1
}
